{
 "cells": [
  {
   "cell_type": "code",
   "execution_count": 1,
   "metadata": {
    "collapsed": true
   },
   "outputs": [],
   "source": [
    "import numpy as np\n",
    "import matplotlib.pyplot as plt\n",
    "from scipy.spatial.distance import cdist\n",
    "import pandas as pd"
   ]
  },
  {
   "cell_type": "code",
   "execution_count": 2,
   "metadata": {
    "collapsed": true
   },
   "outputs": [],
   "source": [
    "from scipy import sparse as sp"
   ]
  },
  {
   "cell_type": "code",
   "execution_count": 3,
   "metadata": {
    "collapsed": true
   },
   "outputs": [],
   "source": [
    "def head_wave_iso(vel, thk, offset, return_all=False):\n",
    "    m = len(vel)\n",
    "    vel = np.array(vel, ndmin=1)\n",
    "    thk = np.array(thk, ndmin=1)\n",
    "    offset = np.abs(np.array(offset, ndmin=1))\n",
    "    t = np.zeros((m - 1, len(offset)))\n",
    "    xnm = np.zeros((m - 1, 1))\n",
    "    tnm = np.zeros((m - 1, 1))\n",
    "    t0m = np.zeros((m - 1, 1))\n",
    "    for i in range(m - 1):\n",
    "        al = np.arcsin(vel[:(i + 1)] / vel[i + 1])\n",
    "        _xnm = 2 * np.sum(thk[:(i + 1)] * np.tan(al))\n",
    "        _tnm = 2 * np.sum(thk[:(i + 1)] / np.cos(al) / vel[:(i + 1)])\n",
    "\n",
    "        _t0m = 2 * np.sum(thk[:(i + 1)] * np.cos(al) / vel[:(i + 1)])\n",
    "        t[i] = _t0m + offset / vel[i + 1]\n",
    "        t[i, offset < _xnm] = np.nan\n",
    "\n",
    "        xnm[i] = _xnm\n",
    "        tnm[i] = _tnm\n",
    "        t0m[i] = _t0m\n",
    "    if return_all:\n",
    "        return np.row_stack([offset / vel[0], t]), xnm, tnm, t0m\n",
    "    return np.nanmin(np.row_stack([offset / vel[0], t]), axis=0)"
   ]
  },
  {
   "cell_type": "code",
   "execution_count": 56,
   "metadata": {},
   "outputs": [
    {
     "data": {
      "text/plain": [
       "[<matplotlib.lines.Line2D at 0xe6caa20>]"
      ]
     },
     "execution_count": 56,
     "metadata": {},
     "output_type": "execute_result"
    },
    {
     "data": {
      "image/png": "[encoded data removed]",
      "text/plain": [
       "<Figure size 432x288 with 1 Axes>"
      ]
     },
     "metadata": {
      "needs_background": "light"
     },
     "output_type": "display_data"
    }
   ],
   "source": [
    "vel = [1000, 2000, 4000]\n",
    "thk = [20, 80]\n",
    "\n",
    "ns = 101\n",
    "nr = 101\n",
    "rec = np.linspace(0,800, nr)\n",
    "src = np.linspace(0,800, ns)\n",
    "offset = cdist(src[..., None], rec[..., None]).ravel()\n",
    "time = head_wave_iso(vel, thk, offset)\n",
    "\n",
    "ids = np.arange(ns).repeat(nr)\n",
    "idr = np.array([np.arange(nr)]*ns).ravel()\n",
    "ido = np.round(offset/8).astype(int)\n",
    "no = len(np.unique(ido))\n",
    "\n",
    "cdp = np.round((rec[idr] - src[ids]) / 2)\n",
    "time0 = head_wave_iso(vel, thk, rec)\n",
    "plt.plot(rec, time0)"
   ]
  },
  {
   "cell_type": "code",
   "execution_count": 57,
   "metadata": {},
   "outputs": [
    {
     "data": {
      "text/html": [
       "<div>\n",
       "<style>\n",
       "    .dataframe thead tr:only-child th {\n",
       "        text-align: right;\n",
       "    }\n",
       "\n",
       "    .dataframe thead th {\n",
       "        text-align: left;\n",
       "    }\n",
       "\n",
       "    .dataframe tbody tr th {\n",
       "        vertical-align: top;\n",
       "    }\n",
       "</style>\n",
       "<table border=\"1\" class=\"dataframe\">\n",
       "  <thead>\n",
       "    <tr style=\"text-align: right;\">\n",
       "      <th></th>\n",
       "      <th>GRP</th>\n",
       "      <th>SRC</th>\n",
       "      <th>OFFSET</th>\n",
       "      <th>TIME</th>\n",
       "      <th>SN</th>\n",
       "      <th>GN</th>\n",
       "      <th>ON</th>\n",
       "      <th>CDP</th>\n",
       "      <th>nCDP</th>\n",
       "    </tr>\n",
       "  </thead>\n",
       "  <tbody>\n",
       "    <tr>\n",
       "      <th>0</th>\n",
       "      <td>0.0</td>\n",
       "      <td>0.0</td>\n",
       "      <td>0.0</td>\n",
       "      <td>0.000</td>\n",
       "      <td>0.0</td>\n",
       "      <td>0.0</td>\n",
       "      <td>0.0</td>\n",
       "      <td>0.0</td>\n",
       "      <td>101</td>\n",
       "    </tr>\n",
       "    <tr>\n",
       "      <th>1</th>\n",
       "      <td>8.0</td>\n",
       "      <td>0.0</td>\n",
       "      <td>8.0</td>\n",
       "      <td>0.008</td>\n",
       "      <td>1.0</td>\n",
       "      <td>0.0</td>\n",
       "      <td>1.0</td>\n",
       "      <td>4.0</td>\n",
       "      <td>100</td>\n",
       "    </tr>\n",
       "    <tr>\n",
       "      <th>2</th>\n",
       "      <td>16.0</td>\n",
       "      <td>0.0</td>\n",
       "      <td>16.0</td>\n",
       "      <td>0.016</td>\n",
       "      <td>2.0</td>\n",
       "      <td>0.0</td>\n",
       "      <td>2.0</td>\n",
       "      <td>8.0</td>\n",
       "      <td>99</td>\n",
       "    </tr>\n",
       "    <tr>\n",
       "      <th>3</th>\n",
       "      <td>24.0</td>\n",
       "      <td>0.0</td>\n",
       "      <td>24.0</td>\n",
       "      <td>0.024</td>\n",
       "      <td>3.0</td>\n",
       "      <td>0.0</td>\n",
       "      <td>3.0</td>\n",
       "      <td>12.0</td>\n",
       "      <td>98</td>\n",
       "    </tr>\n",
       "    <tr>\n",
       "      <th>4</th>\n",
       "      <td>32.0</td>\n",
       "      <td>0.0</td>\n",
       "      <td>32.0</td>\n",
       "      <td>0.032</td>\n",
       "      <td>4.0</td>\n",
       "      <td>0.0</td>\n",
       "      <td>4.0</td>\n",
       "      <td>16.0</td>\n",
       "      <td>97</td>\n",
       "    </tr>\n",
       "  </tbody>\n",
       "</table>\n",
       "</div>"
      ],
      "text/plain": [
       "    GRP  SRC  OFFSET   TIME   SN   GN   ON   CDP  nCDP\n",
       "0   0.0  0.0     0.0  0.000  0.0  0.0  0.0   0.0   101\n",
       "1   8.0  0.0     8.0  0.008  1.0  0.0  1.0   4.0   100\n",
       "2  16.0  0.0    16.0  0.016  2.0  0.0  2.0   8.0    99\n",
       "3  24.0  0.0    24.0  0.024  3.0  0.0  3.0  12.0    98\n",
       "4  32.0  0.0    32.0  0.032  4.0  0.0  4.0  16.0    97"
      ]
     },
     "execution_count": 57,
     "metadata": {},
     "output_type": "execute_result"
    }
   ],
   "source": [
    "df = pd.DataFrame(\n",
    "    np.array([rec[idr], src[ids], offset, time, np.int32(idr), np.int32(ids), np.int32(ido), cdp]).T,\n",
    "    columns=['GRP', 'SRC', 'OFFSET', 'TIME', 'SN', 'GN', 'ON', 'CDP']\n",
    ")\n",
    "df['nCDP'] = np.int32(df.groupby('CDP')['TIME'].transform('count'))\n",
    "df.head()"
   ]
  },
  {
   "cell_type": "code",
   "execution_count": 59,
   "metadata": {},
   "outputs": [
    {
     "data": {
      "text/plain": [
       "[<matplotlib.lines.Line2D at 0xe63b1d0>]"
      ]
     },
     "execution_count": 59,
     "metadata": {},
     "output_type": "execute_result"
    },
    {
     "data": {
      "image/png": "[encoded data removed]",
      "text/plain": [
       "<Figure size 432x288 with 1 Axes>"
      ]
     },
     "metadata": {
      "needs_background": "light"
     },
     "output_type": "display_data"
    }
   ],
   "source": [
    "x = df['CDP'].values\n",
    "y = df['nCDP'].values\n",
    "plt.plot(x, y, '.')"
   ]
  },
  {
   "cell_type": "code",
   "execution_count": 69,
   "metadata": {
    "scrolled": false
   },
   "outputs": [
    {
     "data": {
      "text/plain": [
       "<matplotlib.image.AxesImage at 0xe991128>"
      ]
     },
     "execution_count": 69,
     "metadata": {},
     "output_type": "execute_result"
    },
    {
     "data": {
      "image/png": "[encoded data removed]",
      "text/plain": [
       "<Figure size 432x288 with 1 Axes>"
      ]
     },
     "metadata": {
      "needs_background": "light"
     },
     "output_type": "display_data"
    }
   ],
   "source": [
    "plt.imshow(time.reshape(ns, nr))"
   ]
  },
  {
   "cell_type": "code",
   "execution_count": 80,
   "metadata": {
    "collapsed": true
   },
   "outputs": [],
   "source": [
    "ind_fold = df.nCDP[df.nCDP > 10].index.values"
   ]
  },
  {
   "cell_type": "code",
   "execution_count": 143,
   "metadata": {},
   "outputs": [],
   "source": [
    "def create_operator(cols, fill_data, time):\n",
    "\n",
    "    col = np.empty(shape=(0,))\n",
    "    for c in cols:\n",
    "        col = np.hstack((col, c + len(col)))\n",
    "#     [    \n",
    "#         ids[ind_fold], \n",
    "#         len(np.unique(ids[ind_fold])) + idr[ind_fold], \n",
    "#         len(np.unique(ids[ind_fold])) + len(np.unique(idr[ind_fold])) + idr[ind_fold],\n",
    "#         len(np.unique(ids[ind_fold])) + 2 * len(np.unique(idr[ind_fold])) + ido[ind_fold]\n",
    "#     ]\n",
    "    \n",
    "    data = np.empty(shape=(0,))\n",
    "    for d in fill_data:\n",
    "        data = np.hstack([data, d])\n",
    "        \n",
    "#         [\n",
    "#             np.ones(len(time[ind_fold])),\n",
    "#             np.ones(len(time[ind_fold])),\n",
    "#             offset[ind_fold],\n",
    "#             np.ones(len(time[ind_fold]))\n",
    "#         ]\n",
    "    \n",
    "\n",
    "    row = np.hstack([np.arange(len(time))] * len(col))\n",
    "    col = np.hstack(col)\n",
    "\n",
    "    regressor_sp = sp.csc_matrix((data, (row, col)))\n",
    "    return regressor_sp, time"
   ]
  },
  {
   "cell_type": "code",
   "execution_count": 141,
   "metadata": {},
   "outputs": [
    {
     "data": {
      "text/plain": [
       "(10201, 0)"
      ]
     },
     "execution_count": 141,
     "metadata": {},
     "output_type": "execute_result"
    }
   ],
   "source": [
    "np.empty(shape=(np.size(time),0)).shape"
   ]
  },
  {
   "cell_type": "code",
   "execution_count": 142,
   "metadata": {},
   "outputs": [
    {
     "name": "stdout",
     "output_type": "stream",
     "text": [
      "30363.0\n"
     ]
    },
    {
     "ename": "TypeError",
     "evalue": "'numpy.float64' object cannot be interpreted as an integer",
     "output_type": "error",
     "traceback": [
      "\u001b[1;31m---------------------------------------------------------------------------\u001b[0m",
      "\u001b[1;31mTypeError\u001b[0m                                 Traceback (most recent call last)",
      "\u001b[1;32m<ipython-input-142-edc31199d803>\u001b[0m in \u001b[0;36m<module>\u001b[1;34m\u001b[0m\n\u001b[0;32m      1\u001b[0m \u001b[0mcols\u001b[0m \u001b[1;33m=\u001b[0m \u001b[1;33m[\u001b[0m\u001b[0mids\u001b[0m\u001b[1;33m[\u001b[0m\u001b[0mind_fold\u001b[0m\u001b[1;33m]\u001b[0m\u001b[1;33m,\u001b[0m \u001b[0midr\u001b[0m\u001b[1;33m[\u001b[0m\u001b[0mind_fold\u001b[0m\u001b[1;33m]\u001b[0m\u001b[1;33m,\u001b[0m \u001b[0midr\u001b[0m\u001b[1;33m[\u001b[0m\u001b[0mind_fold\u001b[0m\u001b[1;33m]\u001b[0m\u001b[1;33m,\u001b[0m \u001b[0mido\u001b[0m\u001b[1;33m[\u001b[0m\u001b[0mind_fold\u001b[0m\u001b[1;33m]\u001b[0m\u001b[1;33m]\u001b[0m\u001b[1;33m\u001b[0m\u001b[0m\n\u001b[0;32m      2\u001b[0m \u001b[0mfill_data\u001b[0m \u001b[1;33m=\u001b[0m \u001b[1;33m[\u001b[0m\u001b[0mnp\u001b[0m\u001b[1;33m.\u001b[0m\u001b[0mones\u001b[0m\u001b[1;33m(\u001b[0m\u001b[0mlen\u001b[0m\u001b[1;33m(\u001b[0m\u001b[0mind_fold\u001b[0m\u001b[1;33m)\u001b[0m\u001b[1;33m)\u001b[0m\u001b[1;33m,\u001b[0m \u001b[0mnp\u001b[0m\u001b[1;33m.\u001b[0m\u001b[0mones\u001b[0m\u001b[1;33m(\u001b[0m\u001b[0mlen\u001b[0m\u001b[1;33m(\u001b[0m\u001b[0mind_fold\u001b[0m\u001b[1;33m)\u001b[0m\u001b[1;33m)\u001b[0m\u001b[1;33m,\u001b[0m \u001b[0moffset\u001b[0m\u001b[1;33m[\u001b[0m\u001b[0mind_fold\u001b[0m\u001b[1;33m]\u001b[0m\u001b[1;33m,\u001b[0m \u001b[0mnp\u001b[0m\u001b[1;33m.\u001b[0m\u001b[0mones\u001b[0m\u001b[1;33m(\u001b[0m\u001b[0mlen\u001b[0m\u001b[1;33m(\u001b[0m\u001b[0mind_fold\u001b[0m\u001b[1;33m)\u001b[0m\u001b[1;33m)\u001b[0m\u001b[1;33m]\u001b[0m\u001b[1;33m\u001b[0m\u001b[0m\n\u001b[1;32m----> 3\u001b[1;33m \u001b[0mregressor_sp\u001b[0m\u001b[1;33m,\u001b[0m \u001b[0mtime_sp\u001b[0m \u001b[1;33m=\u001b[0m \u001b[0mcreate_operator\u001b[0m\u001b[1;33m(\u001b[0m\u001b[0mcols\u001b[0m\u001b[1;33m,\u001b[0m \u001b[0mfill_data\u001b[0m\u001b[1;33m,\u001b[0m \u001b[0mtime\u001b[0m\u001b[1;33m[\u001b[0m\u001b[0mind_fold\u001b[0m\u001b[1;33m]\u001b[0m\u001b[1;33m)\u001b[0m\u001b[1;33m\u001b[0m\u001b[0m\n\u001b[0m",
      "\u001b[1;32m<ipython-input-140-6ffc45403c91>\u001b[0m in \u001b[0;36mcreate_operator\u001b[1;34m(cols, fill_data, time)\u001b[0m\n\u001b[0;32m     26\u001b[0m     \u001b[0mcol\u001b[0m \u001b[1;33m=\u001b[0m \u001b[0mnp\u001b[0m\u001b[1;33m.\u001b[0m\u001b[0mhstack\u001b[0m\u001b[1;33m(\u001b[0m\u001b[0mcol\u001b[0m\u001b[1;33m)\u001b[0m\u001b[1;33m\u001b[0m\u001b[0m\n\u001b[0;32m     27\u001b[0m     \u001b[0mprint\u001b[0m\u001b[1;33m(\u001b[0m\u001b[0mcol\u001b[0m\u001b[1;33m.\u001b[0m\u001b[0mmax\u001b[0m\u001b[1;33m(\u001b[0m\u001b[1;33m)\u001b[0m\u001b[1;33m)\u001b[0m\u001b[1;33m\u001b[0m\u001b[0m\n\u001b[1;32m---> 28\u001b[1;33m     \u001b[0mregressor_sp\u001b[0m \u001b[1;33m=\u001b[0m \u001b[0msp\u001b[0m\u001b[1;33m.\u001b[0m\u001b[0mcsc_matrix\u001b[0m\u001b[1;33m(\u001b[0m\u001b[1;33m(\u001b[0m\u001b[0mdata\u001b[0m\u001b[1;33m,\u001b[0m \u001b[1;33m(\u001b[0m\u001b[0mrow\u001b[0m\u001b[1;33m,\u001b[0m \u001b[0mcol\u001b[0m\u001b[1;33m)\u001b[0m\u001b[1;33m)\u001b[0m\u001b[1;33m)\u001b[0m\u001b[1;33m\u001b[0m\u001b[0m\n\u001b[0m\u001b[0;32m     29\u001b[0m     \u001b[1;32mreturn\u001b[0m \u001b[0mregressor_sp\u001b[0m\u001b[1;33m,\u001b[0m \u001b[0mtime\u001b[0m\u001b[1;33m\u001b[0m\u001b[0m\n",
      "\u001b[1;32mC:\\ProgramData\\Anaconda3\\lib\\site-packages\\scipy\\sparse\\compressed.py\u001b[0m in \u001b[0;36m__init__\u001b[1;34m(self, arg1, shape, dtype, copy)\u001b[0m\n\u001b[0;32m     49\u001b[0m                     \u001b[1;31m# (data, ij) format\u001b[0m\u001b[1;33m\u001b[0m\u001b[1;33m\u001b[0m\u001b[0m\n\u001b[0;32m     50\u001b[0m                     \u001b[1;32mfrom\u001b[0m \u001b[1;33m.\u001b[0m\u001b[0mcoo\u001b[0m \u001b[1;32mimport\u001b[0m \u001b[0mcoo_matrix\u001b[0m\u001b[1;33m\u001b[0m\u001b[0m\n\u001b[1;32m---> 51\u001b[1;33m                     \u001b[0mother\u001b[0m \u001b[1;33m=\u001b[0m \u001b[0mself\u001b[0m\u001b[1;33m.\u001b[0m\u001b[0m__class__\u001b[0m\u001b[1;33m(\u001b[0m\u001b[0mcoo_matrix\u001b[0m\u001b[1;33m(\u001b[0m\u001b[0marg1\u001b[0m\u001b[1;33m,\u001b[0m \u001b[0mshape\u001b[0m\u001b[1;33m=\u001b[0m\u001b[0mshape\u001b[0m\u001b[1;33m)\u001b[0m\u001b[1;33m)\u001b[0m\u001b[1;33m\u001b[0m\u001b[0m\n\u001b[0m\u001b[0;32m     52\u001b[0m                     \u001b[0mself\u001b[0m\u001b[1;33m.\u001b[0m\u001b[0m_set_self\u001b[0m\u001b[1;33m(\u001b[0m\u001b[0mother\u001b[0m\u001b[1;33m)\u001b[0m\u001b[1;33m\u001b[0m\u001b[0m\n\u001b[0;32m     53\u001b[0m                 \u001b[1;32melif\u001b[0m \u001b[0mlen\u001b[0m\u001b[1;33m(\u001b[0m\u001b[0marg1\u001b[0m\u001b[1;33m)\u001b[0m \u001b[1;33m==\u001b[0m \u001b[1;36m3\u001b[0m\u001b[1;33m:\u001b[0m\u001b[1;33m\u001b[0m\u001b[0m\n",
      "\u001b[1;32mC:\\ProgramData\\Anaconda3\\lib\\site-packages\\scipy\\sparse\\coo.py\u001b[0m in \u001b[0;36m__init__\u001b[1;34m(self, arg1, shape, dtype, copy)\u001b[0m\n\u001b[0;32m    148\u001b[0m                     \u001b[0mM\u001b[0m \u001b[1;33m=\u001b[0m \u001b[0mnp\u001b[0m\u001b[1;33m.\u001b[0m\u001b[0mmax\u001b[0m\u001b[1;33m(\u001b[0m\u001b[0mrow\u001b[0m\u001b[1;33m)\u001b[0m \u001b[1;33m+\u001b[0m \u001b[1;36m1\u001b[0m\u001b[1;33m\u001b[0m\u001b[0m\n\u001b[0;32m    149\u001b[0m                     \u001b[0mN\u001b[0m \u001b[1;33m=\u001b[0m \u001b[0mnp\u001b[0m\u001b[1;33m.\u001b[0m\u001b[0mmax\u001b[0m\u001b[1;33m(\u001b[0m\u001b[0mcol\u001b[0m\u001b[1;33m)\u001b[0m \u001b[1;33m+\u001b[0m \u001b[1;36m1\u001b[0m\u001b[1;33m\u001b[0m\u001b[0m\n\u001b[1;32m--> 150\u001b[1;33m                     \u001b[0mself\u001b[0m\u001b[1;33m.\u001b[0m\u001b[0m_shape\u001b[0m \u001b[1;33m=\u001b[0m \u001b[0mcheck_shape\u001b[0m\u001b[1;33m(\u001b[0m\u001b[1;33m(\u001b[0m\u001b[0mM\u001b[0m\u001b[1;33m,\u001b[0m \u001b[0mN\u001b[0m\u001b[1;33m)\u001b[0m\u001b[1;33m)\u001b[0m\u001b[1;33m\u001b[0m\u001b[0m\n\u001b[0m\u001b[0;32m    151\u001b[0m                 \u001b[1;32melse\u001b[0m\u001b[1;33m:\u001b[0m\u001b[1;33m\u001b[0m\u001b[0m\n\u001b[0;32m    152\u001b[0m                     \u001b[1;31m# Use 2 steps to ensure shape has length 2.\u001b[0m\u001b[1;33m\u001b[0m\u001b[1;33m\u001b[0m\u001b[0m\n",
      "\u001b[1;32mC:\\ProgramData\\Anaconda3\\lib\\site-packages\\scipy\\sparse\\sputils.py\u001b[0m in \u001b[0;36mcheck_shape\u001b[1;34m(args, current_shape)\u001b[0m\n\u001b[0;32m    279\u001b[0m             \u001b[0mnew_shape\u001b[0m \u001b[1;33m=\u001b[0m \u001b[0mtuple\u001b[0m\u001b[1;33m(\u001b[0m\u001b[0moperator\u001b[0m\u001b[1;33m.\u001b[0m\u001b[0mindex\u001b[0m\u001b[1;33m(\u001b[0m\u001b[0marg\u001b[0m\u001b[1;33m)\u001b[0m \u001b[1;32mfor\u001b[0m \u001b[0marg\u001b[0m \u001b[1;32min\u001b[0m \u001b[0mshape_iter\u001b[0m\u001b[1;33m)\u001b[0m\u001b[1;33m\u001b[0m\u001b[0m\n\u001b[0;32m    280\u001b[0m     \u001b[1;32melse\u001b[0m\u001b[1;33m:\u001b[0m\u001b[1;33m\u001b[0m\u001b[0m\n\u001b[1;32m--> 281\u001b[1;33m         \u001b[0mnew_shape\u001b[0m \u001b[1;33m=\u001b[0m \u001b[0mtuple\u001b[0m\u001b[1;33m(\u001b[0m\u001b[0moperator\u001b[0m\u001b[1;33m.\u001b[0m\u001b[0mindex\u001b[0m\u001b[1;33m(\u001b[0m\u001b[0marg\u001b[0m\u001b[1;33m)\u001b[0m \u001b[1;32mfor\u001b[0m \u001b[0marg\u001b[0m \u001b[1;32min\u001b[0m \u001b[0margs\u001b[0m\u001b[1;33m)\u001b[0m\u001b[1;33m\u001b[0m\u001b[0m\n\u001b[0m\u001b[0;32m    282\u001b[0m \u001b[1;33m\u001b[0m\u001b[0m\n\u001b[0;32m    283\u001b[0m     \u001b[1;32mif\u001b[0m \u001b[0mcurrent_shape\u001b[0m \u001b[1;32mis\u001b[0m \u001b[1;32mNone\u001b[0m\u001b[1;33m:\u001b[0m\u001b[1;33m\u001b[0m\u001b[0m\n",
      "\u001b[1;32mC:\\ProgramData\\Anaconda3\\lib\\site-packages\\scipy\\sparse\\sputils.py\u001b[0m in \u001b[0;36m<genexpr>\u001b[1;34m(.0)\u001b[0m\n\u001b[0;32m    279\u001b[0m             \u001b[0mnew_shape\u001b[0m \u001b[1;33m=\u001b[0m \u001b[0mtuple\u001b[0m\u001b[1;33m(\u001b[0m\u001b[0moperator\u001b[0m\u001b[1;33m.\u001b[0m\u001b[0mindex\u001b[0m\u001b[1;33m(\u001b[0m\u001b[0marg\u001b[0m\u001b[1;33m)\u001b[0m \u001b[1;32mfor\u001b[0m \u001b[0marg\u001b[0m \u001b[1;32min\u001b[0m \u001b[0mshape_iter\u001b[0m\u001b[1;33m)\u001b[0m\u001b[1;33m\u001b[0m\u001b[0m\n\u001b[0;32m    280\u001b[0m     \u001b[1;32melse\u001b[0m\u001b[1;33m:\u001b[0m\u001b[1;33m\u001b[0m\u001b[0m\n\u001b[1;32m--> 281\u001b[1;33m         \u001b[0mnew_shape\u001b[0m \u001b[1;33m=\u001b[0m \u001b[0mtuple\u001b[0m\u001b[1;33m(\u001b[0m\u001b[0moperator\u001b[0m\u001b[1;33m.\u001b[0m\u001b[0mindex\u001b[0m\u001b[1;33m(\u001b[0m\u001b[0marg\u001b[0m\u001b[1;33m)\u001b[0m \u001b[1;32mfor\u001b[0m \u001b[0marg\u001b[0m \u001b[1;32min\u001b[0m \u001b[0margs\u001b[0m\u001b[1;33m)\u001b[0m\u001b[1;33m\u001b[0m\u001b[0m\n\u001b[0m\u001b[0;32m    282\u001b[0m \u001b[1;33m\u001b[0m\u001b[0m\n\u001b[0;32m    283\u001b[0m     \u001b[1;32mif\u001b[0m \u001b[0mcurrent_shape\u001b[0m \u001b[1;32mis\u001b[0m \u001b[1;32mNone\u001b[0m\u001b[1;33m:\u001b[0m\u001b[1;33m\u001b[0m\u001b[0m\n",
      "\u001b[1;31mTypeError\u001b[0m: 'numpy.float64' object cannot be interpreted as an integer"
     ]
    }
   ],
   "source": [
    "cols = [ids[ind_fold], idr[ind_fold], idr[ind_fold], ido[ind_fold]]\n",
    "fill_data = [np.ones(len(ind_fold)), np.ones(len(ind_fold)), offset[ind_fold], np.ones(len(ind_fold))]\n",
    "regressor_sp, time_sp = create_operator(cols, fill_data, time[ind_fold])"
   ]
  },
  {
   "cell_type": "code",
   "execution_count": 132,
   "metadata": {},
   "outputs": [
    {
     "data": {
      "text/plain": [
       "(10091, 103)"
      ]
     },
     "execution_count": 132,
     "metadata": {},
     "output_type": "execute_result"
    }
   ],
   "source": [
    "regressor_sp.shape"
   ]
  },
  {
   "cell_type": "code",
   "execution_count": 131,
   "metadata": {},
   "outputs": [
    {
     "data": {
      "text/plain": [
       "<matplotlib.image.AxesImage at 0x111b3f28>"
      ]
     },
     "execution_count": 131,
     "metadata": {},
     "output_type": "execute_result"
    },
    {
     "data": {
      "image/png": "[encoded data removed]",
      "text/plain": [
       "<Figure size 432x288 with 1 Axes>"
      ]
     },
     "metadata": {
      "needs_background": "light"
     },
     "output_type": "display_data"
    }
   ],
   "source": [
    "plt.imshow(regressor_sp / regressor_sp, extent=(0,1,1,0))"
   ]
  },
  {
   "cell_type": "code",
   "execution_count": 90,
   "metadata": {
    "collapsed": true
   },
   "outputs": [],
   "source": [
    "from scipy.sparse.linalg import inv\n",
    "from scipy import sparse as sp"
   ]
  },
  {
   "cell_type": "code",
   "execution_count": 91,
   "metadata": {
    "scrolled": true
   },
   "outputs": [
    {
     "name": "stdout",
     "output_type": "stream",
     "text": [
      " \n",
      "LSQR            Least-squares solution of  Ax = b\n",
      "The matrix A has      394 rows  and      394 cols\n",
      "damp = 5.00000000000000e-01   calc_var =        0\n",
      "atol = 1.00e-08                 conlim = 1.00e+08\n",
      "btol = 1.00e-08               iter_lim =      788\n",
      " \n",
      "   Itn      x[0]       r1norm     r2norm   Compatible    LS      Norm A   Cond A\n",
      "     0  0.00000e+00   5.471e+04  5.471e+04    1.0e+00  2.4e+02\n",
      "     1  7.34361e-07   2.370e+04  2.370e+04    4.3e-01  6.0e-01   1.5e+07  1.0e+00\n",
      "     2  1.55327e-06   1.249e+04  1.249e+04    2.3e-01  4.7e-01   1.8e+07  2.2e+00\n",
      "     3  1.96224e-06   6.370e+03  6.370e+03    1.2e-01  4.2e-01   2.1e+07  3.6e+00\n",
      "     4  2.13962e-06   3.130e+03  3.130e+03    5.7e-02  3.8e-01   2.4e+07  4.9e+00\n",
      "     5  2.19376e-06   1.514e+03  1.514e+03    2.8e-02  3.4e-01   2.7e+07  6.2e+00\n",
      "     6  2.21094e-06   7.284e+02  7.284e+02    1.3e-02  3.1e-01   2.9e+07  7.5e+00\n",
      "     7  2.21553e-06   3.502e+02  3.502e+02    6.4e-03  2.9e-01   3.2e+07  8.8e+00\n",
      "     8  2.21678e-06   1.700e+02  1.700e+02    3.1e-03  2.7e-01   3.4e+07  1.0e+01\n",
      "     9  2.21716e-06   8.692e+01  8.692e+01    1.6e-03  2.4e-01   3.6e+07  1.1e+01\n",
      "    10  2.21721e-06   5.226e+01  5.226e+01    9.6e-04  1.8e-01   3.8e+07  1.3e+01\n",
      "   133 -7.65115e-03   2.719e+00  2.721e+00    5.0e-05  1.2e-02   1.3e+08  2.7e+06\n",
      "   134 -6.63673e-03   2.407e+00  2.409e+00    4.4e-05  3.3e-02   1.3e+08  2.9e+06\n",
      "   135 -5.90464e-03   2.154e+00  2.156e+00    3.9e-05  2.5e-02   1.3e+08  3.0e+06\n",
      "   136 -5.60811e-03   2.042e+00  2.045e+00    3.7e-05  1.6e-02   1.3e+08  3.1e+06\n",
      "   137 -5.50961e-03   2.004e+00  2.006e+00    3.7e-05  4.5e-03   1.3e+08  3.1e+06\n",
      "   138 -5.50436e-03   2.002e+00  2.004e+00    3.7e-05  4.8e-04   1.3e+08  3.1e+06\n",
      "   139 -5.50411e-03   2.002e+00  2.004e+00    3.7e-05  1.6e-04   1.3e+08  3.1e+06\n",
      "   140 -5.50409e-03   2.002e+00  2.004e+00    3.7e-05  1.0e-04   1.3e+08  3.1e+06\n",
      "   141 -5.50408e-03   2.002e+00  2.004e+00    3.7e-05  1.9e-05   1.3e+08  3.1e+06\n",
      "   142 -5.50408e-03   2.002e+00  2.004e+00    3.7e-05  9.5e-06   1.3e+08  3.1e+06\n",
      "   143 -5.50408e-03   2.002e+00  2.004e+00    3.7e-05  1.3e-06   1.3e+08  3.1e+06\n",
      "   144 -5.50408e-03   2.002e+00  2.004e+00    3.7e-05  1.2e-06   1.3e+08  3.2e+06\n",
      "   145 -5.50408e-03   2.001e+00  2.004e+00    3.7e-05  8.5e-07   1.3e+08  3.2e+06\n",
      "   146 -5.50408e-03   2.001e+00  2.004e+00    3.7e-05  2.1e-06   1.3e+08  3.2e+06\n",
      "   147 -5.50408e-03   2.001e+00  2.004e+00    3.7e-05  2.3e-06   1.4e+08  3.2e+06\n",
      "   148 -5.50408e-03   2.001e+00  2.004e+00    3.7e-05  8.8e-06   1.4e+08  3.2e+06\n",
      "   149 -5.50408e-03   2.001e+00  2.004e+00    3.7e-05  5.0e-05   1.4e+08  3.2e+06\n",
      "   150 -5.50407e-03   2.001e+00  2.004e+00    3.7e-05  8.7e-05   1.4e+08  3.2e+06\n",
      "   151 -5.50170e-03   2.001e+00  2.004e+00    3.7e-05  1.2e-03   1.4e+08  3.2e+06\n",
      "   152 -5.49755e-03   2.000e+00  2.003e+00    3.7e-05  2.7e-03   1.4e+08  3.2e+06\n",
      "   153 -5.40762e-03   1.984e+00  1.987e+00    3.6e-05  1.1e-02   1.4e+08  3.3e+06\n",
      "   154 -4.49245e-03   1.810e+00  1.813e+00    3.3e-05  2.1e-02   1.4e+08  3.4e+06\n",
      "   155 -3.94448e-03   1.697e+00  1.700e+00    3.1e-05  2.0e-02   1.4e+08  3.5e+06\n",
      "   156 -3.60263e-03   1.622e+00  1.626e+00    3.0e-05  1.5e-02   1.4e+08  3.6e+06\n",
      "   157 -3.42005e-03   1.581e+00  1.585e+00    2.9e-05  1.1e-03   1.4e+08  3.6e+06\n",
      "   158 -3.41842e-03   1.581e+00  1.584e+00    2.9e-05  5.7e-04   1.4e+08  3.6e+06\n",
      "   159 -3.41823e-03   1.581e+00  1.584e+00    2.9e-05  2.9e-04   1.4e+08  3.7e+06\n",
      "   160 -3.41820e-03   1.581e+00  1.584e+00    2.9e-05  4.1e-05   1.4e+08  3.7e+06\n",
      "   161 -3.41820e-03   1.581e+00  1.584e+00    2.9e-05  3.1e-05   1.4e+08  3.7e+06\n",
      "   162 -3.41820e-03   1.581e+00  1.584e+00    2.9e-05  6.2e-06   1.4e+08  3.7e+06\n",
      "   163 -3.41820e-03   1.581e+00  1.584e+00    2.9e-05  3.0e-06   1.4e+08  3.7e+06\n",
      "   164 -3.41820e-03   1.581e+00  1.584e+00    2.9e-05  1.5e-06   1.4e+08  3.7e+06\n",
      "   165 -3.41820e-03   1.581e+00  1.584e+00    2.9e-05  5.1e-07   1.4e+08  3.7e+06\n",
      "   166 -3.41820e-03   1.581e+00  1.584e+00    2.9e-05  7.7e-07   1.4e+08  3.7e+06\n",
      "   167 -3.41820e-03   1.581e+00  1.584e+00    2.9e-05  2.3e-06   1.4e+08  3.7e+06\n",
      "   168 -3.41820e-03   1.581e+00  1.584e+00    2.9e-05  2.4e-06   1.4e+08  3.8e+06\n",
      "   169 -3.41820e-03   1.581e+00  1.584e+00    2.9e-05  2.2e-05   1.5e+08  3.8e+06\n",
      "   170 -3.41820e-03   1.581e+00  1.584e+00    2.9e-05  3.9e-05   1.5e+08  3.8e+06\n",
      "   171 -3.41819e-03   1.581e+00  1.584e+00    2.9e-05  1.0e-04   1.5e+08  3.8e+06\n",
      "   172 -3.41814e-03   1.581e+00  1.584e+00    2.9e-05  2.2e-04   1.5e+08  3.8e+06\n",
      "   173 -3.41771e-03   1.580e+00  1.584e+00    2.9e-05  6.9e-04   1.5e+08  3.8e+06\n",
      "   174 -3.41671e-03   1.580e+00  1.584e+00    2.9e-05  8.1e-04   1.5e+08  3.8e+06\n",
      "   175 -3.41314e-03   1.580e+00  1.583e+00    2.9e-05  2.5e-03   1.5e+08  3.8e+06\n",
      "   176 -3.35465e-03   1.570e+00  1.574e+00    2.9e-05  7.4e-03   1.5e+08  3.9e+06\n",
      "   177 -2.98747e-03   1.511e+00  1.514e+00    2.8e-05  1.2e-02   1.5e+08  4.0e+06\n",
      "   178 -2.64589e-03   1.453e+00  1.457e+00    2.7e-05  1.2e-02   1.5e+08  4.1e+06\n",
      "   179 -2.44102e-03   1.417e+00  1.421e+00    2.6e-05  1.2e-02   1.5e+08  4.2e+06\n",
      "   180 -2.36136e-03   1.403e+00  1.407e+00    2.6e-05  7.7e-04   1.5e+08  4.2e+06\n",
      "   181 -2.36034e-03   1.402e+00  1.407e+00    2.6e-05  7.3e-04   1.5e+08  4.2e+06\n",
      "   182 -2.36002e-03   1.402e+00  1.407e+00    2.6e-05  2.0e-04   1.5e+08  4.2e+06\n",
      "   183 -2.35998e-03   1.402e+00  1.407e+00    2.6e-05  3.2e-05   1.5e+08  4.2e+06\n",
      "   184 -2.35998e-03   1.402e+00  1.407e+00    2.6e-05  2.5e-05   1.5e+08  4.2e+06\n",
      "   185 -2.35998e-03   1.402e+00  1.407e+00    2.6e-05  4.9e-06   1.5e+08  4.2e+06\n",
      "   186 -2.35998e-03   1.402e+00  1.407e+00    2.6e-05  2.1e-06   1.5e+08  4.3e+06\n",
      "   187 -2.35998e-03   1.402e+00  1.407e+00    2.6e-05  7.5e-07   1.5e+08  4.3e+06\n",
      "   188 -2.35998e-03   1.402e+00  1.407e+00    2.6e-05  5.7e-07   1.5e+08  4.3e+06\n",
      "   189 -2.35998e-03   1.402e+00  1.407e+00    2.6e-05  5.9e-07   1.5e+08  4.3e+06\n",
      "   190 -2.35998e-03   1.402e+00  1.407e+00    2.6e-05  5.1e-07   1.5e+08  4.3e+06\n",
      "   191 -2.35998e-03   1.402e+00  1.407e+00    2.6e-05  1.1e-05   1.5e+08  4.3e+06\n",
      "   192 -2.35998e-03   1.402e+00  1.407e+00    2.6e-05  1.4e-05   1.5e+08  4.3e+06\n",
      "   193 -2.35998e-03   1.402e+00  1.407e+00    2.6e-05  4.6e-05   1.6e+08  4.3e+06\n",
      "   194 -2.35995e-03   1.402e+00  1.407e+00    2.6e-05  2.8e-04   1.6e+08  4.3e+06\n",
      "   195 -2.35819e-03   1.402e+00  1.406e+00    2.6e-05  1.1e-03   1.6e+08  4.4e+06\n",
      "   196 -2.35305e-03   1.401e+00  1.405e+00    2.6e-05  2.2e-03   1.6e+08  4.4e+06\n",
      "   197 -2.32587e-03   1.394e+00  1.399e+00    2.6e-05  7.3e-03   1.6e+08  4.4e+06\n",
      "   198 -2.20496e-03   1.365e+00  1.370e+00    2.5e-05  1.2e-02   1.6e+08  4.5e+06\n",
      "   199 -1.98497e-03   1.311e+00  1.316e+00    2.4e-05  1.7e-02   1.6e+08  4.7e+06\n",
      "   200 -1.80063e-03   1.264e+00  1.269e+00    2.3e-05  2.0e-03   1.6e+08  4.9e+06\n",
      "   201 -1.79639e-03   1.263e+00  1.267e+00    2.3e-05  6.0e-04   1.6e+08  4.9e+06\n",
      "   202 -1.79591e-03   1.262e+00  1.267e+00    2.3e-05  5.3e-04   1.6e+08  4.9e+06\n",
      "   203 -1.79582e-03   1.262e+00  1.267e+00    2.3e-05  9.5e-05   1.6e+08  4.9e+06\n",
      "   204 -1.79582e-03   1.262e+00  1.267e+00    2.3e-05  2.9e-05   1.6e+08  4.9e+06\n",
      "   205 -1.79582e-03   1.262e+00  1.267e+00    2.3e-05  5.6e-06   1.6e+08  4.9e+06\n",
      "   206 -1.79582e-03   1.262e+00  1.267e+00    2.3e-05  1.3e-06   1.6e+08  4.9e+06\n",
      "   207 -1.79582e-03   1.262e+00  1.267e+00    2.3e-05  3.6e-07   1.6e+08  5.0e+06\n",
      "   208 -1.79582e-03   1.262e+00  1.267e+00    2.3e-05  6.0e-07   1.6e+08  5.0e+06\n",
      "   209 -1.79582e-03   1.262e+00  1.267e+00    2.3e-05  2.3e-06   1.6e+08  5.0e+06\n",
      "   210 -1.79582e-03   1.262e+00  1.267e+00    2.3e-05  7.2e-06   1.6e+08  5.0e+06\n",
      "   211 -1.79582e-03   1.262e+00  1.267e+00    2.3e-05  3.0e-05   1.6e+08  5.0e+06\n",
      "   212 -1.79582e-03   1.262e+00  1.267e+00    2.3e-05  5.8e-05   1.6e+08  5.0e+06\n",
      "   213 -1.79425e-03   1.259e+00  1.264e+00    2.3e-05  3.9e-03   1.6e+08  5.1e+06\n",
      "   214 -1.77912e-03   1.226e+00  1.231e+00    2.2e-05  1.5e-02   1.6e+08  5.2e+06\n",
      "   215 -1.76009e-03   1.182e+00  1.188e+00    2.2e-05  1.3e-02   1.6e+08  5.4e+06\n",
      "   216 -1.74111e-03   1.138e+00  1.143e+00    2.1e-05  9.5e-03   1.6e+08  5.6e+06\n",
      "   217 -1.73683e-03   1.127e+00  1.133e+00    2.1e-05  1.6e-03   1.7e+08  5.7e+06\n",
      "   218 -1.73674e-03   1.127e+00  1.133e+00    2.1e-05  4.1e-04   1.7e+08  5.7e+06\n",
      "   219 -1.73673e-03   1.127e+00  1.133e+00    2.1e-05  6.4e-05   1.7e+08  5.7e+06\n",
      "   220 -1.73673e-03   1.127e+00  1.133e+00    2.1e-05  2.0e-05   1.7e+08  5.7e+06\n",
      "   221 -1.73673e-03   1.127e+00  1.133e+00    2.1e-05  4.6e-06   1.7e+08  5.7e+06\n",
      "   222 -1.73673e-03   1.127e+00  1.133e+00    2.1e-05  2.5e-06   1.7e+08  5.7e+06\n",
      "   223 -1.73673e-03   1.127e+00  1.133e+00    2.1e-05  5.9e-07   1.7e+08  5.8e+06\n",
      "   224 -1.73673e-03   1.127e+00  1.133e+00    2.1e-05  4.4e-07   1.7e+08  5.8e+06\n",
      "   225 -1.73673e-03   1.127e+00  1.133e+00    2.1e-05  5.0e-07   1.7e+08  5.8e+06\n",
      "   226 -1.73673e-03   1.127e+00  1.133e+00    2.1e-05  5.2e-07   1.7e+08  5.8e+06\n",
      "   227 -1.73673e-03   1.127e+00  1.133e+00    2.1e-05  1.1e-06   1.7e+08  5.8e+06\n",
      "   228 -1.73673e-03   1.127e+00  1.133e+00    2.1e-05  2.0e-06   1.7e+08  5.8e+06\n",
      "   229 -1.73673e-03   1.127e+00  1.133e+00    2.1e-05  9.7e-06   1.7e+08  5.8e+06\n",
      "   230 -1.73673e-03   1.127e+00  1.133e+00    2.1e-05  3.5e-05   1.7e+08  5.9e+06\n",
      "   231 -1.73673e-03   1.127e+00  1.133e+00    2.1e-05  9.8e-05   1.7e+08  5.9e+06\n",
      "   232 -1.73693e-03   1.127e+00  1.132e+00    2.1e-05  4.5e-04   1.7e+08  5.9e+06\n",
      "   233 -1.73745e-03   1.127e+00  1.132e+00    2.1e-05  1.3e-03   1.7e+08  5.9e+06\n",
      "   234 -1.75116e-03   1.123e+00  1.129e+00    2.1e-05  5.9e-03   1.7e+08  5.9e+06\n",
      "   235 -1.79622e-03   1.110e+00  1.116e+00    2.0e-05  6.4e-03   1.7e+08  6.0e+06\n",
      "   236 -1.92117e-03   1.075e+00  1.081e+00    2.0e-05  8.1e-03   1.7e+08  6.3e+06\n",
      "   237 -1.95134e-03   1.066e+00  1.072e+00    2.0e-05  5.0e-03   1.7e+08  6.3e+06\n",
      "   238 -1.96792e-03   1.061e+00  1.067e+00    2.0e-05  1.5e-03   1.7e+08  6.4e+06\n",
      "   239 -1.96898e-03   1.061e+00  1.067e+00    2.0e-05  2.7e-04   1.7e+08  6.4e+06\n",
      "   240 -1.96903e-03   1.061e+00  1.067e+00    2.0e-05  1.5e-04   1.7e+08  6.4e+06\n",
      "   241 -1.96905e-03   1.061e+00  1.067e+00    2.0e-05  3.7e-05   1.7e+08  6.4e+06\n",
      "   242 -1.96905e-03   1.061e+00  1.067e+00    2.0e-05  7.6e-06   1.7e+08  6.4e+06\n",
      "   243 -1.96905e-03   1.061e+00  1.067e+00    2.0e-05  1.7e-06   1.7e+08  6.4e+06\n",
      "   244 -1.96905e-03   1.061e+00  1.067e+00    2.0e-05  1.0e-06   1.8e+08  6.5e+06\n",
      "   245 -1.96905e-03   1.061e+00  1.067e+00    2.0e-05  2.8e-07   1.8e+08  6.5e+06\n",
      "   246 -1.96905e-03   1.061e+00  1.067e+00    2.0e-05  3.2e-07   1.8e+08  6.5e+06\n",
      "   247 -1.96905e-03   1.061e+00  1.067e+00    2.0e-05  3.1e-07   1.8e+08  6.5e+06\n",
      "   248 -1.96905e-03   1.061e+00  1.067e+00    2.0e-05  7.0e-07   1.8e+08  6.5e+06\n",
      "   249 -1.96905e-03   1.061e+00  1.067e+00    2.0e-05  5.8e-06   1.8e+08  6.5e+06\n",
      "   250 -1.96905e-03   1.061e+00  1.067e+00    2.0e-05  8.6e-06   1.8e+08  6.5e+06\n",
      "   251 -1.96905e-03   1.061e+00  1.067e+00    2.0e-05  2.5e-05   1.8e+08  6.5e+06\n",
      "   252 -1.96905e-03   1.061e+00  1.067e+00    2.0e-05  5.8e-05   1.8e+08  6.5e+06\n",
      "   253 -1.96922e-03   1.061e+00  1.067e+00    1.9e-05  3.7e-04   1.8e+08  6.6e+06\n",
      "   254 -1.96945e-03   1.061e+00  1.067e+00    1.9e-05  5.2e-04   1.8e+08  6.6e+06\n",
      "   255 -1.97017e-03   1.061e+00  1.067e+00    1.9e-05  1.1e-03   1.8e+08  6.6e+06\n",
      "   256 -1.98495e-03   1.058e+00  1.064e+00    1.9e-05  4.6e-03   1.8e+08  6.6e+06\n",
      "   257 -2.10083e-03   1.035e+00  1.041e+00    1.9e-05  7.1e-03   1.8e+08  6.9e+06\n",
      "   258 -2.15765e-03   1.024e+00  1.030e+00    1.9e-05  4.2e-03   1.8e+08  7.0e+06\n",
      "   259 -2.17412e-03   1.021e+00  1.027e+00    1.9e-05  2.7e-03   1.8e+08  7.1e+06\n",
      "   260 -2.18291e-03   1.019e+00  1.025e+00    1.9e-05  8.4e-04   1.8e+08  7.1e+06\n",
      "   261 -2.18388e-03   1.019e+00  1.025e+00    1.9e-05  7.1e-04   1.8e+08  7.1e+06\n",
      "   262 -2.18411e-03   1.019e+00  1.025e+00    1.9e-05  4.1e-05   1.8e+08  7.1e+06\n",
      "   263 -2.18411e-03   1.019e+00  1.025e+00    1.9e-05  2.6e-05   1.8e+08  7.1e+06\n",
      "   264 -2.18411e-03   1.019e+00  1.025e+00    1.9e-05  6.2e-06   1.8e+08  7.2e+06\n",
      "   265 -2.18411e-03   1.019e+00  1.025e+00    1.9e-05  1.8e-06   1.8e+08  7.2e+06\n",
      "   266 -2.18411e-03   1.019e+00  1.025e+00    1.9e-05  6.1e-07   1.8e+08  7.2e+06\n",
      "   267 -2.18411e-03   1.019e+00  1.025e+00    1.9e-05  3.6e-07   1.8e+08  7.2e+06\n",
      "   268 -2.18411e-03   1.019e+00  1.025e+00    1.9e-05  2.3e-07   1.8e+08  7.2e+06\n",
      "   269 -2.18411e-03   1.019e+00  1.025e+00    1.9e-05  3.2e-07   1.8e+08  7.2e+06\n",
      "   270 -2.18411e-03   1.019e+00  1.025e+00    1.9e-05  1.0e-06   1.8e+08  7.2e+06\n",
      "   271 -2.18411e-03   1.019e+00  1.025e+00    1.9e-05  3.4e-06   1.8e+08  7.2e+06\n",
      "   272 -2.18411e-03   1.019e+00  1.025e+00    1.9e-05  7.8e-06   1.8e+08  7.3e+06\n",
      "   273 -2.18411e-03   1.019e+00  1.025e+00    1.9e-05  1.5e-05   1.8e+08  7.3e+06\n",
      "   274 -2.18411e-03   1.019e+00  1.025e+00    1.9e-05  3.2e-05   1.9e+08  7.3e+06\n",
      "   275 -2.18411e-03   1.019e+00  1.025e+00    1.9e-05  7.1e-05   1.9e+08  7.3e+06\n",
      "   276 -2.18411e-03   1.019e+00  1.025e+00    1.9e-05  3.0e-04   1.9e+08  7.3e+06\n",
      "   277 -2.18411e-03   1.019e+00  1.025e+00    1.9e-05  5.7e-04   1.9e+08  7.3e+06\n",
      "   278 -2.18411e-03   1.018e+00  1.025e+00    1.9e-05  1.4e-03   1.9e+08  7.3e+06\n",
      "   279 -2.18415e-03   1.013e+00  1.019e+00    1.9e-05  5.0e-03   1.9e+08  7.4e+06\n",
      "   280 -2.18420e-03   1.005e+00  1.011e+00    1.8e-05  7.0e-03   1.9e+08  7.6e+06\n",
      "   281 -2.18431e-03   9.870e-01  9.936e-01    1.8e-05  6.2e-03   1.9e+08  7.9e+06\n",
      "   282 -2.18437e-03   9.763e-01  9.829e-01    1.8e-05  3.5e-03   1.9e+08  8.0e+06\n",
      "   283 -2.18438e-03   9.741e-01  9.808e-01    1.8e-05  1.4e-04   1.9e+08  8.1e+06\n",
      "   284 -2.18438e-03   9.741e-01  9.808e-01    1.8e-05  9.9e-05   1.9e+08  8.1e+06\n",
      "   285 -2.18438e-03   9.741e-01  9.808e-01    1.8e-05  3.8e-05   1.9e+08  8.1e+06\n",
      "   286 -2.18438e-03   9.741e-01  9.808e-01    1.8e-05  1.5e-05   1.9e+08  8.1e+06\n",
      "   287 -2.18438e-03   9.741e-01  9.808e-01    1.8e-05  3.6e-06   1.9e+08  8.1e+06\n",
      "   288 -2.18438e-03   9.741e-01  9.808e-01    1.8e-05  1.3e-06   1.9e+08  8.1e+06\n",
      "   289 -2.18438e-03   9.741e-01  9.808e-01    1.8e-05  3.7e-07   1.9e+08  8.2e+06\n",
      "   290 -2.18438e-03   9.741e-01  9.808e-01    1.8e-05  2.0e-07   1.9e+08  8.2e+06\n",
      "   291 -2.18438e-03   9.741e-01  9.808e-01    1.8e-05  3.7e-07   1.9e+08  8.2e+06\n",
      "   292 -2.18438e-03   9.741e-01  9.808e-01    1.8e-05  8.9e-07   1.9e+08  8.2e+06\n",
      "   293 -2.18438e-03   9.741e-01  9.808e-01    1.8e-05  9.5e-07   1.9e+08  8.2e+06\n",
      "   294 -2.18438e-03   9.741e-01  9.808e-01    1.8e-05  1.6e-05   1.9e+08  8.2e+06\n",
      "   295 -2.18438e-03   9.741e-01  9.808e-01    1.8e-05  2.0e-05   1.9e+08  8.3e+06\n",
      "   296 -2.18438e-03   9.741e-01  9.808e-01    1.8e-05  5.5e-05   1.9e+08  8.3e+06\n",
      "   297 -2.18410e-03   9.741e-01  9.807e-01    1.8e-05  4.9e-04   1.9e+08  8.3e+06\n",
      "   298 -2.17146e-03   9.728e-01  9.795e-01    1.8e-05  2.0e-03   1.9e+08  8.3e+06\n",
      "   299 -2.10906e-03   9.665e-01  9.732e-01    1.8e-05  4.5e-03   1.9e+08  8.5e+06\n",
      "   300 -1.87314e-03   9.423e-01  9.492e-01    1.7e-05  5.8e-03   1.9e+08  8.9e+06\n",
      "   301 -1.84391e-03   9.393e-01  9.462e-01    1.7e-05  1.8e-03   1.9e+08  9.0e+06\n",
      "   302 -1.83721e-03   9.386e-01  9.455e-01    1.7e-05  4.3e-04   1.9e+08  9.0e+06\n",
      "   303 -1.83685e-03   9.385e-01  9.455e-01    1.7e-05  3.3e-04   1.9e+08  9.1e+06\n"
     ]
    },
    {
     "name": "stdout",
     "output_type": "stream",
     "text": [
      "   304 -1.83666e-03   9.385e-01  9.455e-01    1.7e-05  1.2e-04   2.0e+08  9.1e+06\n",
      "   305 -1.83663e-03   9.385e-01  9.454e-01    1.7e-05  3.9e-05   2.0e+08  9.1e+06\n",
      "   306 -1.83663e-03   9.385e-01  9.454e-01    1.7e-05  1.6e-05   2.0e+08  9.1e+06\n",
      "   307 -1.83663e-03   9.385e-01  9.454e-01    1.7e-05  4.7e-06   2.0e+08  9.1e+06\n",
      "   308 -1.83663e-03   9.385e-01  9.454e-01    1.7e-05  1.6e-06   2.0e+08  9.1e+06\n",
      "   309 -1.83663e-03   9.385e-01  9.454e-01    1.7e-05  5.6e-07   2.0e+08  9.1e+06\n",
      "   310 -1.83663e-03   9.385e-01  9.454e-01    1.7e-05  3.3e-07   2.0e+08  9.2e+06\n",
      "   311 -1.83663e-03   9.385e-01  9.454e-01    1.7e-05  2.0e-07   2.0e+08  9.2e+06\n",
      "   312 -1.83663e-03   9.385e-01  9.454e-01    1.7e-05  3.2e-07   2.0e+08  9.2e+06\n",
      "   313 -1.83663e-03   9.385e-01  9.454e-01    1.7e-05  2.5e-07   2.0e+08  9.2e+06\n",
      "   314 -1.83663e-03   9.385e-01  9.454e-01    1.7e-05  1.9e-06   2.0e+08  9.2e+06\n",
      "   315 -1.83663e-03   9.385e-01  9.454e-01    1.7e-05  3.2e-06   2.0e+08  9.2e+06\n",
      "   316 -1.83663e-03   9.385e-01  9.454e-01    1.7e-05  8.8e-06   2.0e+08  9.2e+06\n",
      "   317 -1.83663e-03   9.385e-01  9.454e-01    1.7e-05  3.3e-05   2.0e+08  9.2e+06\n",
      "   318 -1.83652e-03   9.385e-01  9.454e-01    1.7e-05  1.6e-04   2.0e+08  9.3e+06\n",
      "   319 -1.83638e-03   9.385e-01  9.454e-01    1.7e-05  1.9e-04   2.0e+08  9.3e+06\n",
      "   320 -1.83531e-03   9.384e-01  9.454e-01    1.7e-05  6.7e-04   2.0e+08  9.3e+06\n",
      "   321 -1.82975e-03   9.381e-01  9.451e-01    1.7e-05  1.2e-03   2.0e+08  9.3e+06\n",
      "   322 -1.60386e-03   9.270e-01  9.341e-01    1.7e-05  4.1e-03   2.0e+08  9.6e+06\n",
      "   323 -1.46549e-03   9.201e-01  9.272e-01    1.7e-05  4.9e-03   2.0e+08  9.8e+06\n",
      "   324 -1.30519e-03   9.121e-01  9.192e-01    1.7e-05  2.0e-03   2.0e+08  1.0e+07\n",
      "   325 -1.29179e-03   9.114e-01  9.186e-01    1.7e-05  2.5e-04   2.0e+08  1.0e+07\n",
      "   326 -1.29142e-03   9.114e-01  9.186e-01    1.7e-05  1.8e-04   2.0e+08  1.0e+07\n",
      "   327 -1.29134e-03   9.114e-01  9.185e-01    1.7e-05  9.1e-05   2.0e+08  1.0e+07\n",
      "   328 -1.29129e-03   9.114e-01  9.185e-01    1.7e-05  5.9e-06   2.0e+08  1.0e+07\n",
      "   329 -1.29129e-03   9.114e-01  9.185e-01    1.7e-05  3.4e-06   2.0e+08  1.0e+07\n",
      "   330 -1.29129e-03   9.114e-01  9.185e-01    1.7e-05  1.3e-06   2.0e+08  1.0e+07\n",
      "   331 -1.29129e-03   9.114e-01  9.185e-01    1.7e-05  8.9e-07   2.0e+08  1.0e+07\n",
      "   332 -1.29129e-03   9.114e-01  9.185e-01    1.7e-05  5.6e-07   2.0e+08  1.0e+07\n",
      "   333 -1.29129e-03   9.113e-01  9.185e-01    1.7e-05  1.2e-07   2.0e+08  1.0e+07\n",
      "   334 -1.29129e-03   9.113e-01  9.185e-01    1.7e-05  7.5e-07   2.0e+08  1.0e+07\n",
      "   335 -1.29129e-03   9.113e-01  9.185e-01    1.7e-05  1.8e-06   2.0e+08  1.0e+07\n",
      "   336 -1.29129e-03   9.113e-01  9.185e-01    1.7e-05  2.1e-06   2.0e+08  1.0e+07\n",
      "   337 -1.29129e-03   9.113e-01  9.185e-01    1.7e-05  4.6e-06   2.1e+08  1.0e+07\n",
      "   338 -1.29129e-03   9.113e-01  9.185e-01    1.7e-05  2.8e-05   2.1e+08  1.0e+07\n",
      "   339 -1.29119e-03   9.113e-01  9.185e-01    1.7e-05  1.4e-04   2.1e+08  1.0e+07\n",
      "   340 -1.29104e-03   9.113e-01  9.185e-01    1.7e-05  2.3e-04   2.1e+08  1.0e+07\n",
      "   341 -1.28899e-03   9.112e-01  9.184e-01    1.7e-05  4.5e-04   2.1e+08  1.0e+07\n",
      "   342 -1.26374e-03   9.101e-01  9.173e-01    1.7e-05  1.8e-03   2.1e+08  1.0e+07\n",
      "   343 -1.03867e-03   8.999e-01  9.072e-01    1.7e-05  8.2e-03   2.1e+08  1.1e+07\n",
      "   344 -7.58119e-04   8.871e-01  8.945e-01    1.6e-05  2.6e-03   2.1e+08  1.1e+07\n",
      "   345 -7.33283e-04   8.859e-01  8.933e-01    1.6e-05  1.6e-03   2.1e+08  1.1e+07\n",
      "   346 -7.24799e-04   8.855e-01  8.929e-01    1.6e-05  2.3e-04   2.1e+08  1.1e+07\n",
      "   347 -7.24552e-04   8.855e-01  8.929e-01    1.6e-05  1.4e-04   2.1e+08  1.1e+07\n",
      "   348 -7.24450e-04   8.855e-01  8.929e-01    1.6e-05  5.1e-05   2.1e+08  1.1e+07\n",
      "   349 -7.24439e-04   8.855e-01  8.929e-01    1.6e-05  3.7e-05   2.1e+08  1.1e+07\n",
      "   350 -7.24433e-04   8.855e-01  8.929e-01    1.6e-05  1.5e-05   2.1e+08  1.1e+07\n",
      "   351 -7.24432e-04   8.855e-01  8.929e-01    1.6e-05  3.6e-06   2.1e+08  1.1e+07\n",
      "   352 -7.24432e-04   8.855e-01  8.929e-01    1.6e-05  3.6e-07   2.1e+08  1.1e+07\n",
      "   353 -7.24432e-04   8.855e-01  8.929e-01    1.6e-05  1.4e-07   2.1e+08  1.1e+07\n",
      "   354 -7.24432e-04   8.855e-01  8.929e-01    1.6e-05  2.7e-07   2.1e+08  1.1e+07\n",
      "   355 -7.24432e-04   8.855e-01  8.929e-01    1.6e-05  5.8e-07   2.1e+08  1.1e+07\n",
      "   356 -7.24432e-04   8.855e-01  8.929e-01    1.6e-05  5.0e-06   2.1e+08  1.1e+07\n",
      "   357 -7.24432e-04   8.855e-01  8.929e-01    1.6e-05  1.1e-05   2.1e+08  1.1e+07\n",
      "   358 -7.24425e-04   8.855e-01  8.929e-01    1.6e-05  4.2e-05   2.1e+08  1.1e+07\n",
      "   359 -7.24391e-04   8.855e-01  8.929e-01    1.6e-05  7.6e-05   2.1e+08  1.1e+07\n",
      "   360 -7.24280e-04   8.855e-01  8.929e-01    1.6e-05  2.2e-04   2.1e+08  1.1e+07\n",
      "   361 -7.22542e-04   8.853e-01  8.928e-01    1.6e-05  6.1e-04   2.1e+08  1.1e+07\n",
      "   362 -7.13504e-04   8.847e-01  8.922e-01    1.6e-05  1.8e-03   2.1e+08  1.1e+07\n",
      "   363 -6.89770e-04   8.831e-01  8.906e-01    1.6e-05  3.4e-03   2.1e+08  1.2e+07\n",
      "   364 -4.64087e-04   8.677e-01  8.753e-01    1.6e-05  7.5e-03   2.1e+08  1.2e+07\n",
      "   365 -3.25989e-04   8.581e-01  8.658e-01    1.6e-05  3.1e-03   2.1e+08  1.2e+07\n",
      "   366 -3.00875e-04   8.564e-01  8.641e-01    1.6e-05  5.4e-04   2.1e+08  1.3e+07\n",
      "   367 -2.99276e-04   8.563e-01  8.640e-01    1.6e-05  8.2e-05   2.1e+08  1.3e+07\n",
      "   368 -2.99263e-04   8.563e-01  8.640e-01    1.6e-05  4.7e-05   2.1e+08  1.3e+07\n",
      "   369 -2.99257e-04   8.563e-01  8.640e-01    1.6e-05  1.5e-05   2.1e+08  1.3e+07\n",
      "   370 -2.99257e-04   8.563e-01  8.640e-01    1.6e-05  3.8e-06   2.2e+08  1.3e+07\n",
      "   371 -2.99257e-04   8.563e-01  8.640e-01    1.6e-05  6.9e-07   2.2e+08  1.3e+07\n",
      "   372 -2.99257e-04   8.562e-01  8.640e-01    1.6e-05  1.8e-07   2.2e+08  1.3e+07\n",
      "   373 -2.99257e-04   8.562e-01  8.640e-01    1.6e-05  2.2e-07   2.2e+08  1.3e+07\n",
      "   374 -2.99257e-04   8.562e-01  8.640e-01    1.6e-05  2.7e-07   2.2e+08  1.3e+07\n",
      "   375 -2.99257e-04   8.562e-01  8.640e-01    1.6e-05  2.7e-06   2.2e+08  1.3e+07\n",
      "   376 -2.99257e-04   8.562e-01  8.640e-01    1.6e-05  5.9e-06   2.2e+08  1.3e+07\n",
      "   377 -2.99255e-04   8.562e-01  8.640e-01    1.6e-05  2.8e-05   2.2e+08  1.3e+07\n",
      "   378 -2.99239e-04   8.562e-01  8.640e-01    1.6e-05  1.3e-04   2.2e+08  1.3e+07\n",
      "   379 -2.99133e-04   8.562e-01  8.639e-01    1.6e-05  2.0e-04   2.2e+08  1.3e+07\n",
      "   380 -2.95371e-04   8.557e-01  8.634e-01    1.6e-05  1.9e-03   2.2e+08  1.3e+07\n",
      "   381 -2.79132e-04   8.533e-01  8.611e-01    1.6e-05  4.4e-03   2.2e+08  1.3e+07\n",
      "   382 -1.37523e-04   8.325e-01  8.405e-01    1.5e-05  4.7e-03   2.2e+08  1.4e+07\n",
      "   383 -9.12038e-05   8.256e-01  8.336e-01    1.5e-05  3.0e-03   2.2e+08  1.4e+07\n",
      "   384 -7.64021e-05   8.234e-01  8.314e-01    1.5e-05  4.9e-04   2.2e+08  1.4e+07\n",
      "   385 -7.59400e-05   8.233e-01  8.313e-01    1.5e-05  3.6e-04   2.2e+08  1.4e+07\n",
      "   386 -7.57843e-05   8.233e-01  8.313e-01    1.5e-05  1.4e-04   2.2e+08  1.4e+07\n",
      "   387 -7.57690e-05   8.233e-01  8.313e-01    1.5e-05  2.3e-05   2.2e+08  1.4e+07\n",
      "   388 -7.57685e-05   8.233e-01  8.313e-01    1.5e-05  1.3e-05   2.2e+08  1.4e+07\n",
      "   389 -7.57683e-05   8.233e-01  8.313e-01    1.5e-05  5.9e-06   2.2e+08  1.4e+07\n",
      "   390 -7.57683e-05   8.233e-01  8.313e-01    1.5e-05  2.7e-06   2.2e+08  1.4e+07\n",
      "   391 -7.57683e-05   8.233e-01  8.313e-01    1.5e-05  6.8e-07   2.2e+08  1.4e+07\n",
      "   392 -7.57683e-05   8.233e-01  8.313e-01    1.5e-05  2.4e-07   2.2e+08  1.4e+07\n",
      "   393 -7.57683e-05   8.233e-01  8.313e-01    1.5e-05  2.4e-07   2.2e+08  1.4e+07\n",
      "   394 -7.57683e-05   8.232e-01  8.313e-01    1.5e-05  1.8e-07   2.2e+08  1.4e+07\n",
      "   395 -7.57683e-05   8.232e-01  8.313e-01    1.5e-05  8.1e-07   2.2e+08  1.4e+07\n",
      "   396 -7.57683e-05   8.232e-01  8.313e-01    1.5e-05  1.3e-06   2.2e+08  1.4e+07\n",
      "   397 -7.57682e-05   8.232e-01  8.313e-01    1.5e-05  4.5e-06   2.2e+08  1.4e+07\n",
      "   398 -7.57660e-05   8.232e-01  8.313e-01    1.5e-05  2.9e-05   2.2e+08  1.4e+07\n",
      "   399 -7.57636e-05   8.232e-01  8.313e-01    1.5e-05  6.1e-05   2.2e+08  1.4e+07\n",
      "   400 -7.57420e-05   8.232e-01  8.313e-01    1.5e-05  1.3e-04   2.2e+08  1.4e+07\n",
      "   401 -7.38761e-05   8.229e-01  8.310e-01    1.5e-05  1.5e-03   2.2e+08  1.4e+07\n",
      "   402 -6.28276e-05   8.209e-01  8.290e-01    1.5e-05  2.0e-03   2.2e+08  1.5e+07\n",
      "   403  6.02518e-06   8.082e-01  8.164e-01    1.5e-05  7.5e-03   2.2e+08  1.5e+07\n",
      "   404  6.70329e-05   7.968e-01  8.052e-01    1.5e-05  3.0e-03   2.3e+08  1.5e+07\n",
      "   405  7.75313e-05   7.949e-01  8.032e-01    1.5e-05  2.0e-03   2.3e+08  1.6e+07\n",
      "   406  8.11584e-05   7.942e-01  8.025e-01    1.5e-05  1.2e-03   2.3e+08  1.6e+07\n",
      "   407  8.25556e-05   7.939e-01  8.023e-01    1.5e-05  2.4e-04   2.3e+08  1.6e+07\n",
      "   408  8.25949e-05   7.939e-01  8.023e-01    1.5e-05  1.2e-04   2.3e+08  1.6e+07\n",
      "   409  8.26201e-05   7.939e-01  8.023e-01    1.5e-05  5.7e-05   2.3e+08  1.6e+07\n",
      "   410  8.26239e-05   7.939e-01  8.023e-01    1.5e-05  1.9e-05   2.3e+08  1.6e+07\n",
      "   411  8.26244e-05   7.939e-01  8.023e-01    1.5e-05  2.7e-06   2.3e+08  1.6e+07\n",
      "   412  8.26244e-05   7.939e-01  8.023e-01    1.5e-05  2.6e-06   2.3e+08  1.6e+07\n",
      "   413  8.26244e-05   7.939e-01  8.023e-01    1.5e-05  3.6e-07   2.3e+08  1.6e+07\n",
      "   414  8.26244e-05   7.939e-01  8.023e-01    1.5e-05  3.8e-07   2.3e+08  1.6e+07\n",
      "   415  8.26244e-05   7.939e-01  8.023e-01    1.5e-05  1.4e-07   2.3e+08  1.6e+07\n",
      "   416  8.26244e-05   7.939e-01  8.023e-01    1.5e-05  5.8e-07   2.3e+08  1.6e+07\n",
      "   417  8.26244e-05   7.939e-01  8.023e-01    1.5e-05  1.7e-06   2.3e+08  1.6e+07\n",
      "   418  8.26244e-05   7.939e-01  8.023e-01    1.5e-05  3.1e-06   2.3e+08  1.6e+07\n",
      "   419  8.26245e-05   7.939e-01  8.023e-01    1.5e-05  4.4e-06   2.3e+08  1.6e+07\n",
      "   420  8.26249e-05   7.939e-01  8.023e-01    1.5e-05  1.3e-05   2.3e+08  1.6e+07\n",
      "   421  8.26478e-05   7.939e-01  8.023e-01    1.5e-05  8.8e-05   2.3e+08  1.6e+07\n",
      "   422  8.30429e-05   7.938e-01  8.022e-01    1.5e-05  3.3e-04   2.3e+08  1.6e+07\n",
      "   423  8.38684e-05   7.938e-01  8.022e-01    1.5e-05  5.8e-04   2.3e+08  1.6e+07\n",
      "   424  8.58720e-05   7.936e-01  8.020e-01    1.5e-05  9.1e-04   2.3e+08  1.6e+07\n",
      "   425  1.13265e-04   7.914e-01  7.998e-01    1.5e-05  3.8e-03   2.3e+08  1.6e+07\n",
      "   426  2.57021e-04   7.797e-01  7.882e-01    1.4e-05  6.5e-03   2.3e+08  1.7e+07\n",
      "   427  4.26872e-04   7.656e-01  7.743e-01    1.4e-05  5.4e-03   2.3e+08  1.7e+07\n",
      "   428  5.17081e-04   7.580e-01  7.667e-01    1.4e-05  2.8e-03   2.3e+08  1.8e+07\n",
      "   429  5.26871e-04   7.571e-01  7.659e-01    1.4e-05  7.0e-04   2.3e+08  1.8e+07\n",
      "   430  5.29277e-04   7.569e-01  7.657e-01    1.4e-05  1.9e-04   2.3e+08  1.8e+07\n",
      "   431  5.29391e-04   7.569e-01  7.657e-01    1.4e-05  9.4e-05   2.3e+08  1.8e+07\n",
      "   432  5.29410e-04   7.569e-01  7.657e-01    1.4e-05  3.3e-05   2.3e+08  1.8e+07\n",
      "   433  5.29417e-04   7.569e-01  7.657e-01    1.4e-05  7.6e-06   2.3e+08  1.8e+07\n",
      "   434  5.29417e-04   7.569e-01  7.657e-01    1.4e-05  1.5e-06   2.3e+08  1.8e+07\n",
      "   435  5.29417e-04   7.569e-01  7.657e-01    1.4e-05  5.7e-07   2.3e+08  1.8e+07\n",
      "   436  5.29417e-04   7.569e-01  7.657e-01    1.4e-05  1.7e-07   2.3e+08  1.8e+07\n",
      "   437  5.29417e-04   7.569e-01  7.657e-01    1.4e-05  5.2e-07   2.3e+08  1.8e+07\n",
      "   438  5.29417e-04   7.569e-01  7.657e-01    1.4e-05  6.7e-07   2.3e+08  1.8e+07\n",
      "   439  5.29417e-04   7.569e-01  7.657e-01    1.4e-05  9.1e-07   2.3e+08  1.8e+07\n",
      "   440  5.29417e-04   7.569e-01  7.657e-01    1.4e-05  4.6e-06   2.3e+08  1.8e+07\n",
      "   441  5.29421e-04   7.569e-01  7.657e-01    1.4e-05  3.1e-05   2.3e+08  1.8e+07\n",
      "   442  5.29438e-04   7.569e-01  7.657e-01    1.4e-05  6.8e-05   2.4e+08  1.8e+07\n",
      "   443  5.29829e-04   7.569e-01  7.657e-01    1.4e-05  4.6e-04   2.4e+08  1.8e+07\n",
      "   444  5.39961e-04   7.563e-01  7.652e-01    1.4e-05  1.3e-03   2.4e+08  1.8e+07\n",
      "   445  5.67321e-04   7.549e-01  7.638e-01    1.4e-05  2.2e-03   2.4e+08  1.8e+07\n",
      "   446  6.55740e-04   7.504e-01  7.593e-01    1.4e-05  6.0e-03   2.4e+08  1.8e+07\n",
      "   447  1.49832e-03   7.054e-01  7.149e-01    1.3e-05  3.3e-03   2.4e+08  2.0e+07\n",
      "   448  1.55447e-03   7.023e-01  7.118e-01    1.3e-05  1.2e-03   2.4e+08  2.0e+07\n",
      "   449  1.55961e-03   7.020e-01  7.115e-01    1.3e-05  7.9e-04   2.4e+08  2.0e+07\n",
      "   450  1.56137e-03   7.019e-01  7.114e-01    1.3e-05  3.6e-04   2.4e+08  2.0e+07\n",
      "   451  1.56212e-03   7.019e-01  7.114e-01    1.3e-05  3.7e-05   2.4e+08  2.0e+07\n",
      "   452  1.56212e-03   7.019e-01  7.114e-01    1.3e-05  2.5e-05   2.4e+08  2.0e+07\n",
      "   453  1.56213e-03   7.019e-01  7.114e-01    1.3e-05  1.4e-05   2.4e+08  2.0e+07\n",
      "   454  1.56213e-03   7.019e-01  7.114e-01    1.3e-05  4.6e-06   2.4e+08  2.0e+07\n",
      "   455  1.56213e-03   7.019e-01  7.114e-01    1.3e-05  6.8e-07   2.4e+08  2.0e+07\n",
      "   456  1.56213e-03   7.019e-01  7.114e-01    1.3e-05  3.6e-07   2.4e+08  2.0e+07\n",
      "   457  1.56213e-03   7.018e-01  7.114e-01    1.3e-05  2.3e-07   2.4e+08  2.0e+07\n",
      "   458  1.56213e-03   7.018e-01  7.114e-01    1.3e-05  3.2e-07   2.4e+08  2.0e+07\n",
      "   459  1.56213e-03   7.018e-01  7.114e-01    1.3e-05  9.6e-07   2.4e+08  2.0e+07\n",
      "   460  1.56213e-03   7.018e-01  7.114e-01    1.3e-05  2.0e-06   2.4e+08  2.0e+07\n",
      "   461  1.56213e-03   7.018e-01  7.114e-01    1.3e-05  9.7e-06   2.4e+08  2.0e+07\n",
      "   462  1.56213e-03   7.018e-01  7.114e-01    1.3e-05  1.3e-05   2.4e+08  2.0e+07\n",
      "   463  1.56214e-03   7.018e-01  7.114e-01    1.3e-05  4.4e-05   2.4e+08  2.0e+07\n",
      "   464  1.56220e-03   7.018e-01  7.114e-01    1.3e-05  1.7e-04   2.4e+08  2.0e+07\n",
      "   465  1.56379e-03   7.018e-01  7.113e-01    1.3e-05  5.2e-04   2.4e+08  2.1e+07\n",
      "   466  1.56745e-03   7.016e-01  7.111e-01    1.3e-05  6.9e-04   2.4e+08  2.1e+07\n",
      "   467  1.58612e-03   7.008e-01  7.103e-01    1.3e-05  2.6e-03   2.4e+08  2.1e+07\n",
      "   468  1.83221e-03   6.899e-01  6.996e-01    1.3e-05  4.8e-03   2.4e+08  2.1e+07\n",
      "   469  2.35345e-03   6.663e-01  6.764e-01    1.2e-05  7.8e-03   2.4e+08  2.2e+07\n",
      "   470  2.59684e-03   6.550e-01  6.652e-01    1.2e-05  2.2e-03   2.4e+08  2.2e+07\n",
      "   471  2.62707e-03   6.536e-01  6.638e-01    1.2e-05  1.5e-03   2.4e+08  2.2e+07\n",
      "   472  2.63968e-03   6.530e-01  6.633e-01    1.2e-05  4.9e-04   2.4e+08  2.2e+07\n",
      "   473  2.64024e-03   6.530e-01  6.632e-01    1.2e-05  2.2e-04   2.4e+08  2.2e+07\n",
      "   474  2.64049e-03   6.530e-01  6.632e-01    1.2e-05  3.2e-05   2.4e+08  2.2e+07\n",
      "   475  2.64050e-03   6.530e-01  6.632e-01    1.2e-05  1.4e-05   2.4e+08  2.2e+07\n",
      "   476  2.64050e-03   6.530e-01  6.632e-01    1.2e-05  7.1e-06   2.4e+08  2.3e+07\n",
      "   477  2.64050e-03   6.530e-01  6.632e-01    1.2e-05  2.9e-06   2.4e+08  2.3e+07\n",
      "   478  2.64050e-03   6.530e-01  6.632e-01    1.2e-05  1.4e-06   2.4e+08  2.3e+07\n",
      "   479  2.64050e-03   6.529e-01  6.632e-01    1.2e-05  1.6e-07   2.4e+08  2.3e+07\n",
      "   480  2.64050e-03   6.529e-01  6.632e-01    1.2e-05  6.6e-07   2.4e+08  2.3e+07\n",
      "   481  2.64050e-03   6.529e-01  6.632e-01    1.2e-05  6.3e-07   2.5e+08  2.3e+07\n",
      "   482  2.64050e-03   6.529e-01  6.632e-01    1.2e-05  2.4e-06   2.5e+08  2.3e+07\n",
      "   483  2.64050e-03   6.529e-01  6.632e-01    1.2e-05  1.6e-05   2.5e+08  2.3e+07\n",
      "   484  2.64051e-03   6.529e-01  6.632e-01    1.2e-05  5.0e-05   2.5e+08  2.3e+07\n",
      "   485  2.64055e-03   6.529e-01  6.632e-01    1.2e-05  1.1e-04   2.5e+08  2.3e+07\n",
      "   486  2.64070e-03   6.529e-01  6.632e-01    1.2e-05  2.2e-04   2.5e+08  2.3e+07\n",
      "   487  2.64251e-03   6.528e-01  6.631e-01    1.2e-05  4.2e-04   2.5e+08  2.3e+07\n",
      "   488  2.65362e-03   6.523e-01  6.626e-01    1.2e-05  1.6e-03   2.5e+08  2.3e+07\n",
      "   489  3.09041e-03   6.316e-01  6.423e-01    1.2e-05  8.1e-03   2.5e+08  2.4e+07\n",
      "   490  3.51535e-03   6.108e-01  6.219e-01    1.1e-05  7.6e-03   2.5e+08  2.4e+07\n",
      "   491  3.68208e-03   6.025e-01  6.137e-01    1.1e-05  3.6e-03   2.5e+08  2.5e+07\n",
      "   492  3.73610e-03   5.998e-01  6.110e-01    1.1e-05  2.1e-03   2.5e+08  2.5e+07\n",
      "   493  3.75886e-03   5.986e-01  6.098e-01    1.1e-05  5.6e-04   2.5e+08  2.5e+07\n",
      "   494  3.76082e-03   5.985e-01  6.097e-01    1.1e-05  2.4e-04   2.5e+08  2.5e+07\n",
      "   495  3.76111e-03   5.985e-01  6.097e-01    1.1e-05  1.6e-04   2.5e+08  2.5e+07\n",
      "   496  3.76118e-03   5.985e-01  6.097e-01    1.1e-05  5.8e-05   2.5e+08  2.5e+07\n",
      "   497  3.76119e-03   5.985e-01  6.097e-01    1.1e-05  1.1e-05   2.5e+08  2.5e+07\n",
      "   498  3.76119e-03   5.985e-01  6.097e-01    1.1e-05  3.4e-06   2.5e+08  2.5e+07\n",
      "   499  3.76119e-03   5.985e-01  6.097e-01    1.1e-05  9.1e-07   2.5e+08  2.5e+07\n",
      "   500  3.76119e-03   5.985e-01  6.097e-01    1.1e-05  8.6e-07   2.5e+08  2.5e+07\n",
      "   501  3.76119e-03   5.985e-01  6.097e-01    1.1e-05  2.8e-07   2.5e+08  2.5e+07\n",
      "   502  3.76119e-03   5.985e-01  6.097e-01    1.1e-05  3.5e-07   2.5e+08  2.5e+07\n",
      "   503  3.76119e-03   5.984e-01  6.097e-01    1.1e-05  3.8e-07   2.5e+08  2.5e+07\n",
      "   504  3.76119e-03   5.984e-01  6.097e-01    1.1e-05  1.2e-06   2.5e+08  2.5e+07\n",
      "   505  3.76119e-03   5.984e-01  6.097e-01    1.1e-05  8.8e-06   2.5e+08  2.5e+07\n",
      " \n",
      "LSQR finished\n",
      "Ax - b is small enough, given atol, btol                  \n",
      " \n",
      "istop =       1   r1norm = 6.0e-01   anorm = 2.5e+08   arnorm = 1.3e+03\n",
      "itn   =     505   r2norm = 6.1e-01   acond = 2.5e+07   xnorm  = 2.4e-01\n",
      " \n"
     ]
    }
   ],
   "source": [
    "theta = sp.linalg.lsqr(regressor_sp.T @ regressor_sp, regressor_sp.T @ time[ind_fold][..., None], show=2, damp=.5)\n",
    "theta = theta[0]"
   ]
  },
  {
   "cell_type": "code",
   "execution_count": 92,
   "metadata": {
    "collapsed": true
   },
   "outputs": [],
   "source": [
    "time_dec = regressor_sp.dot(theta)"
   ]
  },
  {
   "cell_type": "code",
   "execution_count": null,
   "metadata": {
    "collapsed": true
   },
   "outputs": [],
   "source": [
    "src_bias = theta[:ns]\n",
    "rec_bias = theta[ns:(nr+ns)]\n",
    "rec_vel0 = theta[(nr+ns): (ns + nr*2)]\n",
    "rec_vel0 = 1 / (rec_vel0 + 1e-16)\n",
    "off_bias = theta[(2*nr+ns): (ns + nr*2 + no)]"
   ]
  },
  {
   "cell_type": "code",
   "execution_count": null,
   "metadata": {},
   "outputs": [],
   "source": [
    "plt.plot(src_bias)\n",
    "plt.plot(rec_bias)\n",
    "plt.plot(rec_bias + src_bias)"
   ]
  },
  {
   "cell_type": "code",
   "execution_count": null,
   "metadata": {},
   "outputs": [],
   "source": [
    "plt.plot(rec_vel0)"
   ]
  },
  {
   "cell_type": "code",
   "execution_count": null,
   "metadata": {},
   "outputs": [],
   "source": [
    "plt.scatter(offset, time, s=1)\n",
    "plt.scatter(offset, time_dec,s=1)\n"
   ]
  },
  {
   "cell_type": "code",
   "execution_count": null,
   "metadata": {},
   "outputs": [],
   "source": [
    "plt.plot(rec, off_bias)"
   ]
  },
  {
   "cell_type": "code",
   "execution_count": null,
   "metadata": {},
   "outputs": [],
   "source": [
    "plt.plot(rec, 1/(np.gradient(off_bias)/6 + 1/rec_vel0.max()))"
   ]
  },
  {
   "cell_type": "code",
   "execution_count": 89,
   "metadata": {},
   "outputs": [],
   "source": []
  },
  {
   "cell_type": "code",
   "execution_count": null,
   "metadata": {
    "collapsed": true
   },
   "outputs": [],
   "source": [
    "plt.plot(rec, off_bias)"
   ]
  },
  {
   "cell_type": "code",
   "execution_count": null,
   "metadata": {},
   "outputs": [],
   "source": [
    "regressor_sp = sp.csc_matrix(regressor)\n",
    "theta_sp = sp.linalg.lsqr(regressor_sp.T @ regressor_sp,regressor_sp.T @ T_ravel,show=2)\n",
    "theta_sp = theta_sp[0]"
   ]
  },
  {
   "cell_type": "code",
   "execution_count": null,
   "metadata": {
    "collapsed": true
   },
   "outputs": [],
   "source": [
    "first_break_h = regressor @ theta"
   ]
  },
  {
   "cell_type": "code",
   "execution_count": null,
   "metadata": {},
   "outputs": [],
   "source": [
    "M = 0\n",
    "offset_i = X[M]\n",
    "\n",
    "plt.figure(figsize=(10,5))\n",
    "plt.plot(offset_i, T[M], '-k', lw=3, label='True')\n",
    "plt.plot(offset_i, first_break_h[ns*M:ns*(M+1)], '--m', lw=3, label='Decomposition')\n",
    "\n",
    "plt.plot(offset_i, theta[:ns], 'or', ms=2, label='b_source')\n",
    "plt.plot(offset_i, theta[nr:nr*2].ravel(), '.b', ms=3, label='b_receivers')\n",
    "# plt.plot(offset_i, theta[4*N*2:4*N*3].ravel() * R[M], '.k', ms=2, label='slowness')\n",
    "# plt.plot([0, 100, 200, 300], theta[4*N*3:].ravel(), '*g', ms=10, label='b_offset')\n",
    "\n",
    "\n",
    "plt.legend(loc='best')\n",
    "plt.show()"
   ]
  },
  {
   "cell_type": "code",
   "execution_count": null,
   "metadata": {},
   "outputs": [],
   "source": [
    "T[0, 17:23]"
   ]
  },
  {
   "cell_type": "code",
   "execution_count": null,
   "metadata": {},
   "outputs": [],
   "source": [
    "plt.figure(figsize=(15, 5))\n",
    "plt.plot(T[0, :])"
   ]
  },
  {
   "cell_type": "code",
   "execution_count": null,
   "metadata": {},
   "outputs": [],
   "source": [
    "plt.plot(1 / theta[-4:])"
   ]
  },
  {
   "cell_type": "code",
   "execution_count": null,
   "metadata": {
    "collapsed": true
   },
   "outputs": [],
   "source": []
  }
 ],
 "metadata": {
  "kernelspec": {
   "display_name": "Python 3",
   "language": "python",
   "name": "python3"
  },
  "language_info": {
   "codemirror_mode": {
    "name": "ipython",
    "version": 3
   },
   "file_extension": ".py",
   "mimetype": "text/x-python",
   "name": "python",
   "nbconvert_exporter": "python",
   "pygments_lexer": "ipython3",
   "version": "3.6.2"
  }
 },
 "nbformat": 4,
 "nbformat_minor": 2
}
